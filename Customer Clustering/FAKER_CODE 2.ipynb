{
 "cells": [
  {
   "cell_type": "code",
   "execution_count": 1,
   "metadata": {},
   "outputs": [],
   "source": [
    "from faker import Faker\n",
    "import pandas as pd\n",
    "import random\n",
    "from datetime import datetime, timedelta\n",
    "\n",
    "# Initialize Faker\n",
    "fake = Faker()\n",
    "\n",
    "# Generate synthetic data with updated Retirement Goals\n",
    "data = {\n",
    "    'Customer ID': [fake.uuid4() for _ in range(1000)],\n",
    "    'Full Name': [fake.name() for _ in range(1000)],\n",
    "    'Date of Birth': [(datetime.now() - timedelta(days=random.randint(18*365, 65*365))).strftime('%Y-%m-%d') for _ in range(1000)],\n",
    "    'Gender': [fake.random_element(elements=('Male', 'Female', 'Other')) for _ in range(1000)],\n",
    "    'Annual Income': [random.randint(20000, 2000000) for _ in range(1000)],  # Random income between 20k and 2M\n",
    "    'Previous Investment Experience': [fake.random_element(elements=('Yes', 'No')) for _ in range(1000)],\n",
    "    'Amount to Invest': [random.randint(1000, 500000) for _ in range(1000)],  # Random investment amount between 1k and 500k\n",
    "    'Expected Rate of Return': [fake.random_element(elements=('<5%', '5-10%', '>10%')) for _ in range(1000)],\n",
    "    'Term of Investment': [fake.random_element(elements=('Short Term', 'Medium Term', 'Long Term')) for _ in range(1000)],  # Investment term\n",
    "    'Retirement Goals': [fake.random_element(elements=(\n",
    "        'Paying off college debt',\n",
    "        'Buying a house',\n",
    "        'Saving for children\\'s education',\n",
    "        'Securing a comfortable retirement',\n",
    "        'Building an emergency fund',\n",
    "        'Saving for vacation',\n",
    "        'Investing in a business venture'\n",
    "    )) for _ in range(1000)],  # Updated field for specific retirement or financial goals\n",
    "    'Employment Type': [fake.random_element(elements=('Self-Employed', 'Employed', 'Unemployed', 'Retired')) for _ in range(1000)],  # Employment type\n",
    "}\n",
    "\n",
    "# Convert data to DataFrame\n",
    "df = pd.DataFrame(data)\n",
    "\n",
    "# Save DataFrame to CSV\n",
    "file_path = r'C:\\Users\\antos\\OneDrive\\Desktop\\CAPSTONE\\Project 9-14\\Customer data final 1.1\\Customer_data.csv'\n",
    "df.to_csv(file_path, index=False)\n",
    "\n"
   ]
  }
 ],
 "metadata": {
  "kernelspec": {
   "display_name": "Python 3 (ipykernel)",
   "language": "python",
   "name": "python3"
  },
  "language_info": {
   "codemirror_mode": {
    "name": "ipython",
    "version": 3
   },
   "file_extension": ".py",
   "mimetype": "text/x-python",
   "name": "python",
   "nbconvert_exporter": "python",
   "pygments_lexer": "ipython3",
   "version": "3.11.5"
  }
 },
 "nbformat": 4,
 "nbformat_minor": 2
}
