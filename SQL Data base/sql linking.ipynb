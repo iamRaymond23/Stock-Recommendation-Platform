{
 "cells": [
  {
   "cell_type": "code",
   "execution_count": 1,
   "id": "fe6f0419",
   "metadata": {},
   "outputs": [
    {
     "name": "stdout",
     "output_type": "stream",
     "text": [
      "Note: you may need to restart the kernel to use updated packages.\n"
     ]
    },
    {
     "name": "stderr",
     "output_type": "stream",
     "text": [
      "ERROR: Could not find a version that satisfies the requirement sqlite3 (from versions: none)\n",
      "ERROR: No matching distribution found for sqlite3\n"
     ]
    }
   ],
   "source": [
    "pip install sqlite3"
   ]
  },
  {
   "cell_type": "code",
   "execution_count": 2,
   "id": "8aba0484",
   "metadata": {},
   "outputs": [],
   "source": [
    "import sqlite3"
   ]
  },
  {
   "cell_type": "markdown",
   "id": "543c34b6",
   "metadata": {},
   "source": [
    "## Create a SQLite Database and Table"
   ]
  },
  {
   "cell_type": "code",
   "execution_count": 3,
   "id": "da23c584",
   "metadata": {},
   "outputs": [],
   "source": [
    "# Connect to SQLite database (it will create the database file if it doesn't exist)\n",
    "conn = sqlite3.connect('mydatabase.db')\n",
    "\n",
    "# Create a cursor object to execute SQL queries\n",
    "cursor = conn.cursor()\n",
    "\n",
    "# Create a table\n",
    "cursor.execute('''\n",
    "CREATE TABLE IF NOT EXISTS users (\n",
    "    id INTEGER PRIMARY KEY,\n",
    "    name TEXT NOT NULL,\n",
    "    age INTEGER NOT NULL,\n",
    "    email TEXT UNIQUE\n",
    ")\n",
    "''')\n",
    "\n",
    "# Commit the changes and close the connection\n",
    "conn.commit()\n",
    "conn.close()"
   ]
  },
  {
   "cell_type": "markdown",
   "id": "c040aabd",
   "metadata": {},
   "source": [
    "## Insert Data into the Database"
   ]
  },
  {
   "cell_type": "code",
   "execution_count": 4,
   "id": "de9fd3a1",
   "metadata": {},
   "outputs": [],
   "source": [
    "# Connect to SQLite database\n",
    "conn = sqlite3.connect('mydatabase.db')\n",
    "cursor = conn.cursor()\n",
    "\n",
    "# Insert data into the table\n",
    "cursor.execute(\"INSERT INTO users (name, age, email) VALUES (?, ?, ?)\", ('Alice', 30, 'alice@email.com'))\n",
    "cursor.execute(\"INSERT INTO users (name, age, email) VALUES (?, ?, ?)\", ('Bob', 25, 'bob@email.com'))\n",
    "\n",
    "# Commit the changes and close the connection\n",
    "conn.commit()\n",
    "conn.close()"
   ]
  },
  {
   "cell_type": "markdown",
   "id": "7d5db303",
   "metadata": {},
   "source": [
    "## Connect to SQLite Database and Read Data"
   ]
  },
  {
   "cell_type": "code",
   "execution_count": 6,
   "id": "9aabf5de",
   "metadata": {},
   "outputs": [
    {
     "name": "stdout",
     "output_type": "stream",
     "text": [
      "(1, 'Alice', 30, 'alice@email.com')\n",
      "(2, 'Bob', 25, 'bob@email.com')\n"
     ]
    }
   ],
   "source": [
    "# Connect to SQLite database\n",
    "conn = sqlite3.connect('mydatabase.db')\n",
    "cursor = conn.cursor()\n",
    "\n",
    "# Select data from the table\n",
    "cursor.execute(\"SELECT * FROM users\")\n",
    "\n",
    "# Fetch all rows\n",
    "rows = cursor.fetchall()\n",
    "\n",
    "# Print the rows\n",
    "for row in rows:\n",
    "    print(row)\n",
    "\n",
    "# Close the connection\n",
    "conn.close()\n"
   ]
  },
  {
   "cell_type": "code",
   "execution_count": null,
   "id": "67d5c0e4",
   "metadata": {},
   "outputs": [],
   "source": [
    "# To locate the file"
   ]
  },
  {
   "cell_type": "code",
   "execution_count": 7,
   "id": "1d96870e",
   "metadata": {},
   "outputs": [
    {
     "name": "stdout",
     "output_type": "stream",
     "text": [
      "C:\\Users\\iamra\\Desktop\\Project\n"
     ]
    }
   ],
   "source": [
    "import os\n",
    "\n",
    "print(os.getcwd())\n"
   ]
  },
  {
   "cell_type": "markdown",
   "id": "4db048cc",
   "metadata": {},
   "source": [
    "## Data frame to sql :"
   ]
  },
  {
   "cell_type": "code",
   "execution_count": 10,
   "id": "73b8d1ea",
   "metadata": {},
   "outputs": [],
   "source": [
    "import sqlite3\n",
    "import pandas as pd\n",
    "\n",
    "# Create a DataFrame\n",
    "data = {'name': ['Alice', 'Bob', 'Charlie'],\n",
    "        'age': [30, 25, 35],\n",
    "        'email': ['alice@email.com', 'bob@email.com', 'charlie@email.com']}\n",
    "df = pd.DataFrame(data)\n",
    "\n",
    "# Connect to SQLite database\n",
    "conn = sqlite3.connect('mydatabase.db')\n",
    "\n",
    "# Insert DataFrame into SQLite database\n",
    "df.to_sql('sample', conn, if_exists='replace', index=False)\n",
    "\n",
    "# Commit the changes and close the connection\n",
    "conn.commit()\n",
    "conn.close()"
   ]
  },
  {
   "cell_type": "markdown",
   "id": "157c6d61",
   "metadata": {},
   "source": [
    "## to get the tables inside database"
   ]
  },
  {
   "cell_type": "code",
   "execution_count": 11,
   "id": "e31b2a2b",
   "metadata": {},
   "outputs": [
    {
     "name": "stdout",
     "output_type": "stream",
     "text": [
      "users\n",
      "sample\n"
     ]
    }
   ],
   "source": [
    "import sqlite3\n",
    "\n",
    "# Connect to SQLite database\n",
    "conn = sqlite3.connect('mydatabase.db')\n",
    "\n",
    "# Create a cursor object to execute SQL queries\n",
    "cursor = conn.cursor()\n",
    "\n",
    "# Execute SQL query to get all table names\n",
    "cursor.execute(\"SELECT name FROM sqlite_master WHERE type='table';\")\n",
    "\n",
    "# Fetch all table names\n",
    "tables = cursor.fetchall()\n",
    "\n",
    "# Print the table names\n",
    "for table in tables:\n",
    "    print(table[0])\n",
    "\n",
    "# Close the connection\n",
    "conn.close()\n"
   ]
  },
  {
   "cell_type": "code",
   "execution_count": 13,
   "id": "a3f59d75",
   "metadata": {},
   "outputs": [
    {
     "data": {
      "text/plain": [
       "[('users',), ('sample',)]"
      ]
     },
     "execution_count": 13,
     "metadata": {},
     "output_type": "execute_result"
    }
   ],
   "source": [
    "tables"
   ]
  },
  {
   "cell_type": "markdown",
   "id": "da0db0ad",
   "metadata": {},
   "source": [
    "## to read as dataframe"
   ]
  },
  {
   "cell_type": "code",
   "execution_count": 15,
   "id": "6827a622",
   "metadata": {},
   "outputs": [
    {
     "name": "stdout",
     "output_type": "stream",
     "text": [
      "   id   name  age            email\n",
      "0   1  Alice   30  alice@email.com\n",
      "1   2    Bob   25    bob@email.com\n"
     ]
    }
   ],
   "source": [
    "import sqlite3\n",
    "import pandas as pd\n",
    "\n",
    "# Connect to SQLite database\n",
    "conn = sqlite3.connect('mydatabase.db')\n",
    "\n",
    "# Read table into a DataFrame\n",
    "df = pd.read_sql_query(\"SELECT * FROM users;\", conn)  # Replace 'tablename' with the actual table name\n",
    "\n",
    "# Print the DataFrame\n",
    "print(df)\n",
    "\n",
    "# Close the connection\n",
    "conn.close()\n"
   ]
  }
 ],
 "metadata": {
  "kernelspec": {
   "display_name": "Python 3 (ipykernel)",
   "language": "python",
   "name": "python3"
  },
  "language_info": {
   "codemirror_mode": {
    "name": "ipython",
    "version": 3
   },
   "file_extension": ".py",
   "mimetype": "text/x-python",
   "name": "python",
   "nbconvert_exporter": "python",
   "pygments_lexer": "ipython3",
   "version": "3.11.5"
  }
 },
 "nbformat": 4,
 "nbformat_minor": 5
}
